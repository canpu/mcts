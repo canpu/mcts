{
 "cells": [
  {
   "cell_type": "code",
   "execution_count": 1,
   "metadata": {
    "nbgrader": {
     "grade": false,
     "grade_id": "cell-d807736505668a01",
     "locked": true,
     "schema_version": 1,
     "solution": false
    }
   },
   "outputs": [],
   "source": [
    "import math\n",
    "import random \n",
    "import time\n",
    "import unittest\n",
    "from src.maze  import MazeAction\n",
    "from src.mcts  import *\n",
    "from src.state import AbstractState as State\n",
    "from src.state import AbstractAction as Action\n",
    "from src.test  import *"
   ]
  },
  {
   "cell_type": "markdown",
   "metadata": {
    "nbgrader": {
     "grade": false,
     "grade_id": "cell-8a00186f3414d78b",
     "locked": true,
     "schema_version": 1,
     "solution": false
    }
   },
   "source": [
    "# Mini-Pset: Monte Carlo Tree Search for Collaboration\n",
    "<img src=\"img/random-xkcd.png\"/>\n",
    "\n",
    "\n",
    "1. [Part 1: Introduction to MCTS](#part-1)\n",
    "  1. [Implement: *Selection* (10 points)](#selection)\n",
    "  2. [Implement: *Expansion* (10 points)](#expansion)\n",
    "  3. [Implement: *Simulation* (10 points)](#simulation)\n",
    "  4. [Implement: *Back Propagation* (10 points)](#back-propagation)\n",
    "  5. [Written Question: *MCTS with Heuristics* (10 points)](#heuristics)\n",
    "2. [Part 2: MCTS for Collaboration](#part-2)\n",
    "  1. [Implement: *Reward* (10 points)](#reward)\n",
    "  2. [Implement: *Is Terminal State* (10 points)](#is-terminal-state)\n",
    "  3. [Implement: *Possible Actions* (10 points)](#possible-actions)\n",
    "  4. [Implement: *Take Action* (10 points)](#take-action)\n",
    "  5. [Written Question: *Limitations of MCTS* (10 points)](#limitations)"
   ]
  },
  {
   "cell_type": "markdown",
   "metadata": {
    "nbgrader": {
     "grade": false,
     "grade_id": "cell-744c8c9c22888a18",
     "locked": true,
     "schema_version": 1,
     "solution": false
    }
   },
   "source": [
    "---\n",
    "# Part 1: Introduction to MCTS <a id=\"part-1\"/>\n",
    "\n",
    "## Structure of this Mini-Pset\n",
    "TODO -- Finish Description\n",
    "\n",
    "## *\"Monte Carlo\"* meets *\"Tree Search\"*\n",
    "TODO -- Finish Description\n",
    " <table><tr>\n",
    "    <td> <img src=\"img/random-pi-estimate.gif\" alt=\"Drawing\" style=\"width: 300px;\"/> </td>\n",
    "    <td> <img src=\"img/random-tree-search.gif\" alt=\"Drawing\" style=\"width: 300px;\"/> </td>\n",
    "</tr></table>\n",
    "\n",
    "## AlphaGo Zero\n",
    "TODO -- Finish Description\n",
    "\n",
    " <table><tr>\n",
    "    <td> <img src=\"img/random-go-performance.gif\" alt=\"Drawing\" style=\"width: 500px;\"/> </td>\n",
    "    <td> <img src=\"img/random-lee-sedol.jpg\" alt=\"Drawing\" style=\"width: 400px;\"/> </td>\n",
    "</tr></table>\n",
    "\n",
    "## MCTS Algorithm \n",
    "TODO -- Finish Description\n",
    "<img src=\"img/paper-mcts.png\" style=\"width: 700px;\" >\n",
    "\n",
    "### Bandit Problems\n",
    "TODO -- Finish Description\n",
    "\n",
    "TODO -- get cartoon bandit\n",
    "\n",
    "*Bandit Problems* are a class of sequential decision making problems where the agent must chose between $K$ actions in order to maximize the cumulative reward of the agent.\n",
    "\n",
    "The best action is not clear because the underlying reward distribution is unknown, and potential rewards must be estimate on past observations. This leads to the exploitation-exploration dilemma. [1] The policy should aim to minimize a player's regret after *n* plays, which is defined as $R_n$ below:\n",
    "\n",
    "$R_n = \\mu^*n - \\mu_j \\Sigma_{j=1}^{K} \\mathbb{E}[T_k(n)]$\n",
    "\n",
    "where $\\mu^*$ is the best possible expected reward, and $\\mathbb{E}[T_j(n)]$ is the expected number of executions of action $j$ across $n$ trials. In other words, the regret is the expected loss due to not acting optimally.\n",
    "\n",
    "### Upper Confidence Bound (UCB)\n",
    "TODO -- Finish Description\n",
    "A useful notion for tackling bandit problems is the upper confidence bound (UCB) that a particular action is the optimal action. \n",
    "\n",
    "$UCB1 = \\bar{X_j} + \\sqrt{\\frac{2 \\text{ln} (n)}{n_j}}$ -> first term encourages exploitation (avg reward from arm j), and second encourages exploration (visit less visited choices) [TODO find source for this (see Auer et al)]\n",
    " \n",
    "### Monte Carlo Tree Search \n",
    "TODO -- Finish Description\n",
    "two fundamental concepts: the value of an action may be approximated by using random simulation, and that these values may be used efficient to adjust the policy towards a best-first strategy \n",
    " \n",
    "<img src=\"img/paper-tree-growth.png\" style=\"width: 400px;\" >\n",
    "\n",
    "\n",
    "### Upper Confidence Bound for Trees (UCT)\n",
    "TODO -- Finish Description\n",
    "UCT refers to MCTS with any UCB tree selection policy. We will encode UCT with UCB1 in this problem set.\n",
    "$UCT = \\bar{X_j} + 2 C_p \\sqrt{\\frac{2 \\text{ln} (n)}{n_j}}$ (n is how many times the parent node has been visited) -> yields a powerfu form of iterated local search. exploration gaurantees that low-value children are to be chosen eventually. When rewards are in the range [0, 1], Cp optimal = 0.5. \n",
    "\n",
    "\n",
    "### Default Policy: Random Rollout \n",
    "TODO -- Finish Description\n",
    "<img src=\"img/random-tree-rollout.png\" style=\"width: 400px;\" >\n",
    "\n",
    "## Gomoku Game\n",
    "TODO -- Finish Description"
   ]
  },
  {
   "cell_type": "markdown",
   "metadata": {
    "nbgrader": {
     "grade": false,
     "grade_id": "cell-2f1c1dc82cdbe3ee",
     "locked": true,
     "schema_version": 1,
     "solution": false
    }
   },
   "source": [
    "---\n",
    "## Implement: *Selection* (10 points) <a id=\"selection\"/>\n",
    "<img src=\"img/paper-selection.png\" style=\"width: 700px;\" >\n",
    "\n",
    "\n",
    "TODO -- Finish Description"
   ]
  },
  {
   "cell_type": "code",
   "execution_count": 20,
   "metadata": {
    "nbgrader": {
     "grade": false,
     "grade_id": "cell-5146225d8db989b4",
     "locked": false,
     "schema_version": 1,
     "solution": true
    }
   },
   "outputs": [],
   "source": [
    "def select(node: Node, exploration_const: float = 1.0) -> (Action, Node):\n",
    "    \"\"\" Select the best child node based on UCB; if there are multiple\n",
    "        child nodes with the max UCB, randomly select one\n",
    "    :param node: The parent node\n",
    "    :param exploration_const: The exploration constant in UCB formula\n",
    "    :return: The action and the corresponding best child node\n",
    "    \"\"\"\n",
    "    ### BEGIN SOLUTION\n",
    "    max_val = -math.inf\n",
    "    max_actions = []\n",
    "    for action, child in node.children.items():\n",
    "        node_val = (child.tot_reward / child.num_samples\n",
    "                    + exploration_const *\n",
    "                    math.sqrt(2.0 * math.log(node.num_samples) /\n",
    "                              child.num_samples))\n",
    "        if node_val > max_val:\n",
    "            max_val = node_val\n",
    "            max_actions = [action]\n",
    "        elif node_val == max_val:\n",
    "            max_actions.append(action)\n",
    "    max_action = random.choice(max_actions)\n",
    "    return max_action, node.children[max_action]\n",
    "    ### END SOLUTION"
   ]
  },
  {
   "cell_type": "code",
   "execution_count": 21,
   "metadata": {
    "nbgrader": {
     "grade": true,
     "grade_id": "cell-1728113dfcfcc33f",
     "locked": true,
     "points": 10,
     "schema_version": 1,
     "solution": false
    }
   },
   "outputs": [
    {
     "data": {
      "text/html": [
       "<div class=\"alert alert-success\">\n",
       "        <strong>Tests passed!!</strong>\n",
       "        </div>"
      ]
     },
     "metadata": {},
     "output_type": "display_data"
    }
   ],
   "source": [
    "test_select(select)\n",
    "test_ok()"
   ]
  },
  {
   "cell_type": "markdown",
   "metadata": {},
   "source": [
    "---\n",
    "## Implement: *Expansion* (10 points) <a id=\"expansion\"/>\n",
    "<img src=\"img/paper-expansion.png\" style=\"width: 700px;\" >\n",
    "TODO -- Finish Description\n"
   ]
  },
  {
   "cell_type": "code",
   "execution_count": 2,
   "metadata": {
    "nbgrader": {
     "grade": false,
     "grade_id": "cell-8cac40d673a2ac43",
     "locked": false,
     "schema_version": 1,
     "solution": true
    }
   },
   "outputs": [],
   "source": [
    "def expand(node: Node) -> Node:\n",
    "    \"\"\" Randomly select an untried action and create a child node based on it\n",
    "        Return the new child node\n",
    "    :param node: The parent node\n",
    "    :return: The child node\n",
    "    \"\"\"\n",
    "    ### BEGIN SOLUTION\n",
    "    if node.is_expanded:\n",
    "        raise Exception(\"Should not expand a node that has already\"\n",
    "                        \" been expanded\")\n",
    "    action = random.choice(node.unused_edges)\n",
    "    return node.add_child(action)\n",
    "    ### END SOLUTION"
   ]
  },
  {
   "cell_type": "code",
   "execution_count": 3,
   "metadata": {
    "nbgrader": {
     "grade": true,
     "grade_id": "cell-d6f102ff29b07b2b",
     "locked": true,
     "points": 10,
     "schema_version": 1,
     "solution": false
    }
   },
   "outputs": [
    {
     "data": {
      "text/html": [
       "<div class=\"alert alert-success\">\n",
       "        <strong>Tests passed!!</strong>\n",
       "        </div>"
      ]
     },
     "metadata": {},
     "output_type": "display_data"
    }
   ],
   "source": [
    "test_expand(expand)\n",
    "test_ok()"
   ]
  },
  {
   "cell_type": "markdown",
   "metadata": {},
   "source": [
    "---\n",
    "## Implement: *Simulation* (10 points) <a id=\"simulation\"/>\n",
    "<img src=\"img/paper-simulation.png\" style=\"width: 700px;\" >\n",
    "\n",
    "\n",
    "TODO -- Finish Description\n",
    "\n",
    "\n",
    "### Default Rollout Policy\n",
    "\n",
    "\n",
    "TODO -- Finish Description"
   ]
  },
  {
   "cell_type": "code",
   "execution_count": 4,
   "metadata": {
    "nbgrader": {
     "grade": false,
     "grade_id": "cell-04f2b4885acdea15",
     "locked": false,
     "schema_version": 1,
     "solution": true
    }
   },
   "outputs": [],
   "source": [
    "def simulate(state: State) -> float:\n",
    "    \"\"\" The default policy for simulation is to randomly (uniform distribution)\n",
    "        select an action to update the state and repeat the simulation until\n",
    "        a terminal state is reached\n",
    "    :param state: The starting state\n",
    "    :return: The reward at the terminal node\n",
    "    \"\"\"\n",
    "    ### BEGIN SOLUTION\n",
    "    while not state.is_terminal:\n",
    "        action = random.choice(state.possible_actions)\n",
    "        state = state.execute_action(action)\n",
    "    return state.reward\n",
    "    ### END SOLUTION"
   ]
  },
  {
   "cell_type": "code",
   "execution_count": 5,
   "metadata": {
    "nbgrader": {
     "grade": true,
     "grade_id": "cell-6c3db0bef45352e1",
     "locked": true,
     "points": 10,
     "schema_version": 1,
     "solution": false
    }
   },
   "outputs": [
    {
     "data": {
      "text/html": [
       "<div class=\"alert alert-success\">\n",
       "        <strong>Tests passed!!</strong>\n",
       "        </div>"
      ]
     },
     "metadata": {},
     "output_type": "display_data"
    }
   ],
   "source": [
    "test_simulate(expand)\n",
    "test_ok()"
   ]
  },
  {
   "cell_type": "markdown",
   "metadata": {},
   "source": [
    "---\n",
    "## Implement: *Back Propagation* (10 points) <a id=\"back-propagation\"/>\n",
    "<img src=\"img/paper-back-propagation.png\" style=\"width: 700px;\" >\n",
    "\n",
    "\n",
    "TODO -- Finish Description"
   ]
  },
  {
   "cell_type": "code",
   "execution_count": 6,
   "metadata": {
    "nbgrader": {
     "grade": false,
     "grade_id": "cell-20127172b9eb7705",
     "locked": false,
     "schema_version": 1,
     "solution": true
    }
   },
   "outputs": [],
   "source": [
    "def backpropagate(node: Node, reward: float = 0.0) -> None:\n",
    "    \"\"\" Propagate the reward and sample count from the specified node\n",
    "        back all the way to the root node (the node with no parent)\n",
    "    :param node: The node where the reward is evaluated\n",
    "    :param reward: The reward at the node\n",
    "    \"\"\"\n",
    "    ### BEGIN SOLUTION\n",
    "    while node is not None:\n",
    "        node.num_samples += 1\n",
    "        node.tot_reward += reward\n",
    "        node = node.parent\n",
    "    ### END SOLUTION"
   ]
  },
  {
   "cell_type": "code",
   "execution_count": 32,
   "metadata": {
    "nbgrader": {
     "grade": true,
     "grade_id": "cell-e77f09e169ac4a3e",
     "locked": true,
     "points": 10,
     "schema_version": 1,
     "solution": false
    }
   },
   "outputs": [
    {
     "data": {
      "text/html": [
       "<div class=\"alert alert-success\">\n",
       "        <strong>Tests passed!!</strong>\n",
       "        </div>"
      ]
     },
     "metadata": {},
     "output_type": "display_data"
    }
   ],
   "source": [
    "test_backpropagate(expand)\n",
    "test_ok()"
   ]
  },
  {
   "cell_type": "markdown",
   "metadata": {},
   "source": [
    "---\n",
    "## Written Question: *MCTS with Heuristics* (10 points) <a id=\"heuristics\"/>\n",
    "\n",
    "TODO -- Description"
   ]
  },
  {
   "cell_type": "markdown",
   "metadata": {
    "nbgrader": {
     "grade": true,
     "grade_id": "cell-d4021b380fffb2a4",
     "locked": false,
     "points": 10,
     "schema_version": 1,
     "solution": true
    }
   },
   "source": [
    "YOUR ANSWER HERE"
   ]
  },
  {
   "cell_type": "markdown",
   "metadata": {},
   "source": [
    "---\n",
    "# Part 2: MCTS for Collaboration <a id=\"part-2\"/>\n",
    "<img src=\"img/auv-random-walk.png\" style=\"width: 400px;\" >\n",
    "\n",
    "\n",
    "### AUV Value Collection Example\n"
   ]
  },
  {
   "cell_type": "markdown",
   "metadata": {},
   "source": [
    "---\n",
    "## Implement: *Reward* (10 points) <a id=\"reward\"/>\n",
    "\n",
    "TODO -- Description"
   ]
  },
  {
   "cell_type": "code",
   "execution_count": 33,
   "metadata": {
    "nbgrader": {
     "grade": false,
     "grade_id": "cell-98dffdadad69dccb",
     "locked": false,
     "schema_version": 1,
     "solution": true
    }
   },
   "outputs": [],
   "source": [
    "def reward(self) -> float: \n",
    "    # TODO write a specification\n",
    "    ### BEGIN SOLUTION\n",
    "    reward = 0.0\n",
    "    for target_position in self._environment.rewards:\n",
    "        if target_position in self.visited:\n",
    "            reward += self._environment.rewards[target_position]\n",
    "    return reward\n",
    "    ### END SOLUTION"
   ]
  },
  {
   "cell_type": "code",
   "execution_count": 34,
   "metadata": {
    "nbgrader": {
     "grade": true,
     "grade_id": "cell-1315a5a1f55ef576",
     "locked": true,
     "points": 10,
     "schema_version": 1,
     "solution": false
    }
   },
   "outputs": [
    {
     "data": {
      "text/html": [
       "<div class=\"alert alert-success\">\n",
       "        <strong>Tests passed!!</strong>\n",
       "        </div>"
      ]
     },
     "metadata": {},
     "output_type": "display_data"
    }
   ],
   "source": [
    "test_reward(reward)\n",
    "test_ok()"
   ]
  },
  {
   "cell_type": "markdown",
   "metadata": {},
   "source": [
    "---\n",
    "## Implement: *Is Terminal State* (10 points) <a id=\"is-terminal-state\"/>\n",
    "\n",
    "TODO -- Description"
   ]
  },
  {
   "cell_type": "code",
   "execution_count": 12,
   "metadata": {
    "nbgrader": {
     "grade": false,
     "grade_id": "cell-0d03e41c2474bf77",
     "locked": false,
     "schema_version": 1,
     "solution": true
    }
   },
   "outputs": [],
   "source": [
    "def is_terminal(self) -> bool:\n",
    "    \"\"\" A state is terminal if and only if the time runs out\n",
    "    \"\"\"\n",
    "    ### BEGIN SOLUTION\n",
    "    return self.time_remains <= 0\n",
    "    ### END SOLUTION"
   ]
  },
  {
   "cell_type": "code",
   "execution_count": 13,
   "metadata": {
    "nbgrader": {
     "grade": true,
     "grade_id": "cell-d5a1a4a7e0465456",
     "locked": true,
     "points": 10,
     "schema_version": 1,
     "solution": false
    }
   },
   "outputs": [
    {
     "data": {
      "text/html": [
       "<div class=\"alert alert-success\">\n",
       "        <strong>Tests passed!!</strong>\n",
       "        </div>"
      ]
     },
     "metadata": {},
     "output_type": "display_data"
    }
   ],
   "source": [
    "test_is_terminal(is_terminal)\n",
    "test_ok()"
   ]
  },
  {
   "cell_type": "markdown",
   "metadata": {},
   "source": [
    "--- \n",
    "## Implement: *Possible Actions* (10 points) <a id=\"possible-actions\"/>\n",
    "\n",
    "TODO -- Description"
   ]
  },
  {
   "cell_type": "code",
   "execution_count": 14,
   "metadata": {
    "nbgrader": {
     "grade": false,
     "grade_id": "cell-afc70e172851563a",
     "locked": false,
     "schema_version": 1,
     "solution": true
    }
   },
   "outputs": [],
   "source": [
    "def possible_actions(self) -> list:\n",
    "    # TODO write specification here\n",
    "    ### BEGIN SOLUTION\n",
    "    i, j = self._paths[self._turn][-1]\n",
    "    actions = [MazeAction(self._turn, (i + 1, j)),\n",
    "               MazeAction(self._turn, (i - 1, j)),\n",
    "               MazeAction(self._turn, (i, j + 1)),\n",
    "               MazeAction(self._turn, (i, j - 1))]\n",
    "    return [MazeAction(self._turn, action.position) for action in actions if\n",
    "            self.is_in_range(action.position) and\n",
    "            action.position not in self._environment.obstacles]\n",
    "    ### END SOLUTION"
   ]
  },
  {
   "cell_type": "code",
   "execution_count": 15,
   "metadata": {
    "nbgrader": {
     "grade": true,
     "grade_id": "cell-727963e36b39a45f",
     "locked": true,
     "points": 10,
     "schema_version": 1,
     "solution": false
    }
   },
   "outputs": [
    {
     "data": {
      "text/html": [
       "<div class=\"alert alert-success\">\n",
       "        <strong>Tests passed!!</strong>\n",
       "        </div>"
      ]
     },
     "metadata": {},
     "output_type": "display_data"
    }
   ],
   "source": [
    "test_possible_actions(possible_actions)\n",
    "test_ok()"
   ]
  },
  {
   "cell_type": "markdown",
   "metadata": {},
   "source": [
    "---\n",
    "## Implement: *Take Action* (10 points) <a id=\"take-action\"/>\n",
    "\n",
    "TODO -- Description"
   ]
  },
  {
   "cell_type": "code",
   "execution_count": 26,
   "metadata": {
    "nbgrader": {
     "grade": false,
     "grade_id": "cell-18f241cd0f15a4b4",
     "locked": false,
     "schema_version": 1,
     "solution": true
    }
   },
   "outputs": [],
   "source": [
    "def take_action(self, action: MazeAction) -> \"MazeState\":\n",
    "    \"\"\" Execute the action based on the current state\n",
    "    :param action: The action\n",
    "    :return: The updated state\n",
    "    \"\"\"\n",
    "    ### BEGIN SOLUTION\n",
    "    self._paths[self._turn].append(action.position)\n",
    "    self._turn = (self._turn + 1) % len(self._paths)\n",
    "    if self._turn == 0:  # When all agents have taken a turn of actions\n",
    "        self._time_remains -= 1\n",
    "    return self\n",
    "    ### END SOLUTION"
   ]
  },
  {
   "cell_type": "code",
   "execution_count": 19,
   "metadata": {
    "nbgrader": {
     "grade": true,
     "grade_id": "cell-53bbf722c18cb613",
     "locked": true,
     "points": 10,
     "schema_version": 1,
     "solution": false
    }
   },
   "outputs": [
    {
     "data": {
      "text/html": [
       "<div class=\"alert alert-success\">\n",
       "        <strong>Tests passed!!</strong>\n",
       "        </div>"
      ]
     },
     "metadata": {},
     "output_type": "display_data"
    }
   ],
   "source": [
    "test_take_action(take_action)\n",
    "test_ok()"
   ]
  },
  {
   "cell_type": "markdown",
   "metadata": {},
   "source": [
    "---\n",
    "## Written Question: *Limitations of MCTS* (10 points) <a id=\"limitations\"/>\n",
    "\n",
    "TODO -- Description"
   ]
  },
  {
   "cell_type": "markdown",
   "metadata": {
    "nbgrader": {
     "grade": true,
     "grade_id": "cell-25cdfc53a4e11f2d",
     "locked": false,
     "points": 10,
     "schema_version": 1,
     "solution": true
    }
   },
   "source": [
    "YOUR ANSWER HERE"
   ]
  },
  {
   "cell_type": "markdown",
   "metadata": {
    "deletable": false,
    "nbgrader": {
     "grade": false,
     "grade_id": "cell-af0a8bf29b28875b",
     "locked": true,
     "schema_version": 1,
     "solution": false
    }
   },
   "source": [
    "## References \n",
    "[1] Browne et. al. 2012, *A Survey of Monte Carlo Tree Search Methods*, IEEE\n",
    "\n",
    "TODO -- add more references"
   ]
  },
  {
   "cell_type": "code",
   "execution_count": null,
   "metadata": {},
   "outputs": [],
   "source": []
  }
 ],
 "metadata": {
  "celltoolbar": "Create Assignment",
  "kernelspec": {
   "display_name": "Python 3",
   "language": "python",
   "name": "python3"
  },
  "language_info": {
   "codemirror_mode": {
    "name": "ipython",
    "version": 3
   },
   "file_extension": ".py",
   "mimetype": "text/x-python",
   "name": "python",
   "nbconvert_exporter": "python",
   "pygments_lexer": "ipython3",
   "version": "3.6.1"
  }
 },
 "nbformat": 4,
 "nbformat_minor": 2
}
